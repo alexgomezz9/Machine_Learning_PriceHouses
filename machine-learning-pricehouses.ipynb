{
 "cells": [
  {
   "cell_type": "raw",
   "id": "0119ff64",
   "metadata": {
    "papermill": {
     "duration": 0.013211,
     "end_time": "2024-09-27T09:39:19.518611",
     "exception": false,
     "start_time": "2024-09-27T09:39:19.505400",
     "status": "completed"
    },
    "tags": []
   },
   "source": []
  },
  {
   "cell_type": "code",
   "execution_count": 1,
   "id": "c987da48",
   "metadata": {
    "_cell_guid": "b1076dfc-b9ad-4769-8c92-a6c4dae69d19",
    "_uuid": "8f2839f25d086af736a60e9eeb907d3b93b6e0e5",
    "execution": {
     "iopub.execute_input": "2024-09-27T09:39:19.545748Z",
     "iopub.status.busy": "2024-09-27T09:39:19.545299Z",
     "iopub.status.idle": "2024-09-27T09:39:20.583314Z",
     "shell.execute_reply": "2024-09-27T09:39:20.581811Z"
    },
    "papermill": {
     "duration": 1.054867,
     "end_time": "2024-09-27T09:39:20.586167",
     "exception": false,
     "start_time": "2024-09-27T09:39:19.531300",
     "status": "completed"
    },
    "tags": []
   },
   "outputs": [
    {
     "name": "stdout",
     "output_type": "stream",
     "text": [
      "/kaggle/input/prices/sample_submission.csv\n",
      "/kaggle/input/prices/data_description.txt\n",
      "/kaggle/input/prices/train.csv\n",
      "/kaggle/input/prices/test.csv\n"
     ]
    }
   ],
   "source": [
    "# This Python 3 environment comes with many helpful analytics libraries installed\n",
    "# It is defined by the kaggle/python Docker image: https://github.com/kaggle/docker-python\n",
    "# For example, here's several helpful packages to load\n",
    "\n",
    "import numpy as np # linear algebra\n",
    "import pandas as pd # data processing, CSV file I/O (e.g. pd.read_csv)\n",
    "\n",
    "# Input data files are available in the read-only \"../input/\" directory\n",
    "# For example, running this (by clicking run or pressing Shift+Enter) will list all files under the input directory\n",
    "\n",
    "import os\n",
    "for dirname, _, filenames in os.walk('/kaggle/input'):\n",
    "    for filename in filenames:\n",
    "        print(os.path.join(dirname, filename))\n",
    "\n",
    "# You can write up to 20GB to the current directory (/kaggle/working/) that gets preserved as output when you create a version using \"Save & Run All\" \n",
    "# You can also write temporary files to /kaggle/temp/, but they won't be saved outside of the current session"
   ]
  },
  {
   "cell_type": "code",
   "execution_count": 2,
   "id": "3037de95",
   "metadata": {
    "execution": {
     "iopub.execute_input": "2024-09-27T09:39:20.615508Z",
     "iopub.status.busy": "2024-09-27T09:39:20.614874Z",
     "iopub.status.idle": "2024-09-27T09:39:20.702371Z",
     "shell.execute_reply": "2024-09-27T09:39:20.701044Z"
    },
    "papermill": {
     "duration": 0.105473,
     "end_time": "2024-09-27T09:39:20.705439",
     "exception": false,
     "start_time": "2024-09-27T09:39:20.599966",
     "status": "completed"
    },
    "tags": []
   },
   "outputs": [],
   "source": [
    "train_data=pd.read_csv('/kaggle/input/prices/train.csv')\n",
    "test_data=pd.read_csv('/kaggle/input/prices/test.csv')"
   ]
  },
  {
   "cell_type": "code",
   "execution_count": 3,
   "id": "13b96095",
   "metadata": {
    "execution": {
     "iopub.execute_input": "2024-09-27T09:39:20.734728Z",
     "iopub.status.busy": "2024-09-27T09:39:20.734301Z",
     "iopub.status.idle": "2024-09-27T09:39:20.781368Z",
     "shell.execute_reply": "2024-09-27T09:39:20.780027Z"
    },
    "papermill": {
     "duration": 0.064577,
     "end_time": "2024-09-27T09:39:20.784364",
     "exception": false,
     "start_time": "2024-09-27T09:39:20.719787",
     "status": "completed"
    },
    "tags": []
   },
   "outputs": [
    {
     "name": "stdout",
     "output_type": "stream",
     "text": [
      "<class 'pandas.core.frame.DataFrame'>\n",
      "RangeIndex: 1460 entries, 0 to 1459\n",
      "Data columns (total 81 columns):\n",
      " #   Column         Non-Null Count  Dtype  \n",
      "---  ------         --------------  -----  \n",
      " 0   Id             1460 non-null   int64  \n",
      " 1   MSSubClass     1460 non-null   int64  \n",
      " 2   MSZoning       1460 non-null   object \n",
      " 3   LotFrontage    1201 non-null   float64\n",
      " 4   LotArea        1460 non-null   int64  \n",
      " 5   Street         1460 non-null   object \n",
      " 6   Alley          91 non-null     object \n",
      " 7   LotShape       1460 non-null   object \n",
      " 8   LandContour    1460 non-null   object \n",
      " 9   Utilities      1460 non-null   object \n",
      " 10  LotConfig      1460 non-null   object \n",
      " 11  LandSlope      1460 non-null   object \n",
      " 12  Neighborhood   1460 non-null   object \n",
      " 13  Condition1     1460 non-null   object \n",
      " 14  Condition2     1460 non-null   object \n",
      " 15  BldgType       1460 non-null   object \n",
      " 16  HouseStyle     1460 non-null   object \n",
      " 17  OverallQual    1460 non-null   int64  \n",
      " 18  OverallCond    1460 non-null   int64  \n",
      " 19  YearBuilt      1460 non-null   int64  \n",
      " 20  YearRemodAdd   1460 non-null   int64  \n",
      " 21  RoofStyle      1460 non-null   object \n",
      " 22  RoofMatl       1460 non-null   object \n",
      " 23  Exterior1st    1460 non-null   object \n",
      " 24  Exterior2nd    1460 non-null   object \n",
      " 25  MasVnrType     588 non-null    object \n",
      " 26  MasVnrArea     1452 non-null   float64\n",
      " 27  ExterQual      1460 non-null   object \n",
      " 28  ExterCond      1460 non-null   object \n",
      " 29  Foundation     1460 non-null   object \n",
      " 30  BsmtQual       1423 non-null   object \n",
      " 31  BsmtCond       1423 non-null   object \n",
      " 32  BsmtExposure   1422 non-null   object \n",
      " 33  BsmtFinType1   1423 non-null   object \n",
      " 34  BsmtFinSF1     1460 non-null   int64  \n",
      " 35  BsmtFinType2   1422 non-null   object \n",
      " 36  BsmtFinSF2     1460 non-null   int64  \n",
      " 37  BsmtUnfSF      1460 non-null   int64  \n",
      " 38  TotalBsmtSF    1460 non-null   int64  \n",
      " 39  Heating        1460 non-null   object \n",
      " 40  HeatingQC      1460 non-null   object \n",
      " 41  CentralAir     1460 non-null   object \n",
      " 42  Electrical     1459 non-null   object \n",
      " 43  1stFlrSF       1460 non-null   int64  \n",
      " 44  2ndFlrSF       1460 non-null   int64  \n",
      " 45  LowQualFinSF   1460 non-null   int64  \n",
      " 46  GrLivArea      1460 non-null   int64  \n",
      " 47  BsmtFullBath   1460 non-null   int64  \n",
      " 48  BsmtHalfBath   1460 non-null   int64  \n",
      " 49  FullBath       1460 non-null   int64  \n",
      " 50  HalfBath       1460 non-null   int64  \n",
      " 51  BedroomAbvGr   1460 non-null   int64  \n",
      " 52  KitchenAbvGr   1460 non-null   int64  \n",
      " 53  KitchenQual    1460 non-null   object \n",
      " 54  TotRmsAbvGrd   1460 non-null   int64  \n",
      " 55  Functional     1460 non-null   object \n",
      " 56  Fireplaces     1460 non-null   int64  \n",
      " 57  FireplaceQu    770 non-null    object \n",
      " 58  GarageType     1379 non-null   object \n",
      " 59  GarageYrBlt    1379 non-null   float64\n",
      " 60  GarageFinish   1379 non-null   object \n",
      " 61  GarageCars     1460 non-null   int64  \n",
      " 62  GarageArea     1460 non-null   int64  \n",
      " 63  GarageQual     1379 non-null   object \n",
      " 64  GarageCond     1379 non-null   object \n",
      " 65  PavedDrive     1460 non-null   object \n",
      " 66  WoodDeckSF     1460 non-null   int64  \n",
      " 67  OpenPorchSF    1460 non-null   int64  \n",
      " 68  EnclosedPorch  1460 non-null   int64  \n",
      " 69  3SsnPorch      1460 non-null   int64  \n",
      " 70  ScreenPorch    1460 non-null   int64  \n",
      " 71  PoolArea       1460 non-null   int64  \n",
      " 72  PoolQC         7 non-null      object \n",
      " 73  Fence          281 non-null    object \n",
      " 74  MiscFeature    54 non-null     object \n",
      " 75  MiscVal        1460 non-null   int64  \n",
      " 76  MoSold         1460 non-null   int64  \n",
      " 77  YrSold         1460 non-null   int64  \n",
      " 78  SaleType       1460 non-null   object \n",
      " 79  SaleCondition  1460 non-null   object \n",
      " 80  SalePrice      1460 non-null   int64  \n",
      "dtypes: float64(3), int64(35), object(43)\n",
      "memory usage: 924.0+ KB\n",
      "None\n"
     ]
    }
   ],
   "source": [
    "print(train_data.info())"
   ]
  },
  {
   "cell_type": "code",
   "execution_count": 4,
   "id": "c5e31a66",
   "metadata": {
    "execution": {
     "iopub.execute_input": "2024-09-27T09:39:20.813021Z",
     "iopub.status.busy": "2024-09-27T09:39:20.812023Z",
     "iopub.status.idle": "2024-09-27T09:39:20.830374Z",
     "shell.execute_reply": "2024-09-27T09:39:20.828501Z"
    },
    "papermill": {
     "duration": 0.037415,
     "end_time": "2024-09-27T09:39:20.834874",
     "exception": false,
     "start_time": "2024-09-27T09:39:20.797459",
     "status": "completed"
    },
    "tags": []
   },
   "outputs": [
    {
     "name": "stdout",
     "output_type": "stream",
     "text": [
      "PoolQC          1456\n",
      "MiscFeature     1408\n",
      "Alley           1352\n",
      "Fence           1169\n",
      "MasVnrType       894\n",
      "FireplaceQu      730\n",
      "LotFrontage      227\n",
      "GarageYrBlt       78\n",
      "GarageQual        78\n",
      "GarageFinish      78\n",
      "GarageCond        78\n",
      "GarageType        76\n",
      "BsmtCond          45\n",
      "BsmtQual          44\n",
      "BsmtExposure      44\n",
      "BsmtFinType1      42\n",
      "BsmtFinType2      42\n",
      "MasVnrArea        15\n",
      "MSZoning           4\n",
      "BsmtHalfBath       2\n",
      "Utilities          2\n",
      "Functional         2\n",
      "BsmtFullBath       2\n",
      "BsmtFinSF1         1\n",
      "BsmtFinSF2         1\n",
      "BsmtUnfSF          1\n",
      "KitchenQual        1\n",
      "TotalBsmtSF        1\n",
      "Exterior2nd        1\n",
      "GarageCars         1\n",
      "Exterior1st        1\n",
      "GarageArea         1\n",
      "SaleType           1\n",
      "dtype: int64\n"
     ]
    }
   ],
   "source": [
    "a= test_data.isnull().sum().sort_values(ascending=False)\n",
    "print(a[a > 0])"
   ]
  },
  {
   "cell_type": "code",
   "execution_count": 5,
   "id": "a31ab2ab",
   "metadata": {
    "execution": {
     "iopub.execute_input": "2024-09-27T09:39:20.865305Z",
     "iopub.status.busy": "2024-09-27T09:39:20.864775Z",
     "iopub.status.idle": "2024-09-27T09:39:20.880335Z",
     "shell.execute_reply": "2024-09-27T09:39:20.878041Z"
    },
    "papermill": {
     "duration": 0.034222,
     "end_time": "2024-09-27T09:39:20.883242",
     "exception": false,
     "start_time": "2024-09-27T09:39:20.849020",
     "status": "completed"
    },
    "tags": []
   },
   "outputs": [
    {
     "name": "stderr",
     "output_type": "stream",
     "text": [
      "/tmp/ipykernel_17/85356552.py:2: FutureWarning: A value is trying to be set on a copy of a DataFrame or Series through chained assignment using an inplace method.\n",
      "The behavior will change in pandas 3.0. This inplace method will never work because the intermediate object on which we are setting values always behaves as a copy.\n",
      "\n",
      "For example, when doing 'df[col].method(value, inplace=True)', try using 'df.method({col: value}, inplace=True)' or df[col] = df[col].method(value) instead, to perform the operation inplace on the original object.\n",
      "\n",
      "\n",
      "  train_data[col].fillna('None',inplace=True)\n",
      "/tmp/ipykernel_17/85356552.py:3: FutureWarning: A value is trying to be set on a copy of a DataFrame or Series through chained assignment using an inplace method.\n",
      "The behavior will change in pandas 3.0. This inplace method will never work because the intermediate object on which we are setting values always behaves as a copy.\n",
      "\n",
      "For example, when doing 'df[col].method(value, inplace=True)', try using 'df.method({col: value}, inplace=True)' or df[col] = df[col].method(value) instead, to perform the operation inplace on the original object.\n",
      "\n",
      "\n",
      "  test_data[col].fillna('None',inplace=True)\n"
     ]
    }
   ],
   "source": [
    "for col in ['PoolQC','MiscFeature','Alley','Fence']:\n",
    "    train_data[col].fillna('None',inplace=True)\n",
    "    test_data[col].fillna('None',inplace=True)"
   ]
  },
  {
   "cell_type": "code",
   "execution_count": 6,
   "id": "773a5ac8",
   "metadata": {
    "execution": {
     "iopub.execute_input": "2024-09-27T09:39:20.912604Z",
     "iopub.status.busy": "2024-09-27T09:39:20.912054Z",
     "iopub.status.idle": "2024-09-27T09:39:20.931433Z",
     "shell.execute_reply": "2024-09-27T09:39:20.929742Z"
    },
    "papermill": {
     "duration": 0.038128,
     "end_time": "2024-09-27T09:39:20.934703",
     "exception": false,
     "start_time": "2024-09-27T09:39:20.896575",
     "status": "completed"
    },
    "tags": []
   },
   "outputs": [
    {
     "name": "stderr",
     "output_type": "stream",
     "text": [
      "/tmp/ipykernel_17/3444421824.py:2: FutureWarning: A value is trying to be set on a copy of a DataFrame or Series through chained assignment using an inplace method.\n",
      "The behavior will change in pandas 3.0. This inplace method will never work because the intermediate object on which we are setting values always behaves as a copy.\n",
      "\n",
      "For example, when doing 'df[col].method(value, inplace=True)', try using 'df.method({col: value}, inplace=True)' or df[col] = df[col].method(value) instead, to perform the operation inplace on the original object.\n",
      "\n",
      "\n",
      "  train_data[col].fillna('None',inplace=True)\n",
      "/tmp/ipykernel_17/3444421824.py:3: FutureWarning: A value is trying to be set on a copy of a DataFrame or Series through chained assignment using an inplace method.\n",
      "The behavior will change in pandas 3.0. This inplace method will never work because the intermediate object on which we are setting values always behaves as a copy.\n",
      "\n",
      "For example, when doing 'df[col].method(value, inplace=True)', try using 'df.method({col: value}, inplace=True)' or df[col] = df[col].method(value) instead, to perform the operation inplace on the original object.\n",
      "\n",
      "\n",
      "  test_data[col].fillna('None',inplace=True)\n",
      "/tmp/ipykernel_17/3444421824.py:4: FutureWarning: A value is trying to be set on a copy of a DataFrame or Series through chained assignment using an inplace method.\n",
      "The behavior will change in pandas 3.0. This inplace method will never work because the intermediate object on which we are setting values always behaves as a copy.\n",
      "\n",
      "For example, when doing 'df[col].method(value, inplace=True)', try using 'df.method({col: value}, inplace=True)' or df[col] = df[col].method(value) instead, to perform the operation inplace on the original object.\n",
      "\n",
      "\n",
      "  train_data['GarageYrBlt'].fillna(0,inplace=True)\n",
      "/tmp/ipykernel_17/3444421824.py:5: FutureWarning: A value is trying to be set on a copy of a DataFrame or Series through chained assignment using an inplace method.\n",
      "The behavior will change in pandas 3.0. This inplace method will never work because the intermediate object on which we are setting values always behaves as a copy.\n",
      "\n",
      "For example, when doing 'df[col].method(value, inplace=True)', try using 'df.method({col: value}, inplace=True)' or df[col] = df[col].method(value) instead, to perform the operation inplace on the original object.\n",
      "\n",
      "\n",
      "  test_data['GarageYrBlt'].fillna(0,inplace=True)\n"
     ]
    }
   ],
   "source": [
    "for col in ['GarageFinish','GarageQual','GarageCond','GarageType']:\n",
    "    train_data[col].fillna('None',inplace=True)\n",
    "    test_data[col].fillna('None',inplace=True)\n",
    "train_data['GarageYrBlt'].fillna(0,inplace=True)\n",
    "test_data['GarageYrBlt'].fillna(0,inplace=True)"
   ]
  },
  {
   "cell_type": "code",
   "execution_count": 7,
   "id": "4f44924c",
   "metadata": {
    "execution": {
     "iopub.execute_input": "2024-09-27T09:39:20.965003Z",
     "iopub.status.busy": "2024-09-27T09:39:20.964539Z",
     "iopub.status.idle": "2024-09-27T09:39:21.008028Z",
     "shell.execute_reply": "2024-09-27T09:39:21.006454Z"
    },
    "papermill": {
     "duration": 0.061891,
     "end_time": "2024-09-27T09:39:21.011272",
     "exception": false,
     "start_time": "2024-09-27T09:39:20.949381",
     "status": "completed"
    },
    "tags": []
   },
   "outputs": [],
   "source": [
    "train_data['LotFrontage']=train_data.groupby('Neighborhood')['LotFrontage'].transform(lambda x: x.fillna(x.median()))\n",
    "test_data['LotFrontage']=test_data.groupby('Neighborhood')['LotFrontage'].transform(lambda x: x.fillna(x.median()))"
   ]
  },
  {
   "cell_type": "code",
   "execution_count": 8,
   "id": "e9c96cba",
   "metadata": {
    "execution": {
     "iopub.execute_input": "2024-09-27T09:39:21.041800Z",
     "iopub.status.busy": "2024-09-27T09:39:21.041280Z",
     "iopub.status.idle": "2024-09-27T09:39:21.056143Z",
     "shell.execute_reply": "2024-09-27T09:39:21.054880Z"
    },
    "papermill": {
     "duration": 0.033803,
     "end_time": "2024-09-27T09:39:21.059459",
     "exception": false,
     "start_time": "2024-09-27T09:39:21.025656",
     "status": "completed"
    },
    "tags": []
   },
   "outputs": [
    {
     "name": "stderr",
     "output_type": "stream",
     "text": [
      "/tmp/ipykernel_17/2330530444.py:2: FutureWarning: A value is trying to be set on a copy of a DataFrame or Series through chained assignment using an inplace method.\n",
      "The behavior will change in pandas 3.0. This inplace method will never work because the intermediate object on which we are setting values always behaves as a copy.\n",
      "\n",
      "For example, when doing 'df[col].method(value, inplace=True)', try using 'df.method({col: value}, inplace=True)' or df[col] = df[col].method(value) instead, to perform the operation inplace on the original object.\n",
      "\n",
      "\n",
      "  train_data[col].fillna('None',inplace=True)\n",
      "/tmp/ipykernel_17/2330530444.py:3: FutureWarning: A value is trying to be set on a copy of a DataFrame or Series through chained assignment using an inplace method.\n",
      "The behavior will change in pandas 3.0. This inplace method will never work because the intermediate object on which we are setting values always behaves as a copy.\n",
      "\n",
      "For example, when doing 'df[col].method(value, inplace=True)', try using 'df.method({col: value}, inplace=True)' or df[col] = df[col].method(value) instead, to perform the operation inplace on the original object.\n",
      "\n",
      "\n",
      "  test_data[col].fillna('None',inplace=True)\n"
     ]
    }
   ],
   "source": [
    "for col in ['BsmtQual', 'BsmtCond', 'BsmtExposure', 'BsmtFinType1', 'BsmtFinType2']:\n",
    "    train_data[col].fillna('None',inplace=True)\n",
    "    test_data[col].fillna('None',inplace=True)"
   ]
  },
  {
   "cell_type": "code",
   "execution_count": 9,
   "id": "4e70ef3f",
   "metadata": {
    "execution": {
     "iopub.execute_input": "2024-09-27T09:39:21.090663Z",
     "iopub.status.busy": "2024-09-27T09:39:21.089373Z",
     "iopub.status.idle": "2024-09-27T09:39:21.101015Z",
     "shell.execute_reply": "2024-09-27T09:39:21.099483Z"
    },
    "papermill": {
     "duration": 0.032178,
     "end_time": "2024-09-27T09:39:21.105491",
     "exception": false,
     "start_time": "2024-09-27T09:39:21.073313",
     "status": "completed"
    },
    "tags": []
   },
   "outputs": [
    {
     "name": "stderr",
     "output_type": "stream",
     "text": [
      "/tmp/ipykernel_17/4175926661.py:1: FutureWarning: A value is trying to be set on a copy of a DataFrame or Series through chained assignment using an inplace method.\n",
      "The behavior will change in pandas 3.0. This inplace method will never work because the intermediate object on which we are setting values always behaves as a copy.\n",
      "\n",
      "For example, when doing 'df[col].method(value, inplace=True)', try using 'df.method({col: value}, inplace=True)' or df[col] = df[col].method(value) instead, to perform the operation inplace on the original object.\n",
      "\n",
      "\n",
      "  train_data['MasVnrType'].fillna('None', inplace=True)\n",
      "/tmp/ipykernel_17/4175926661.py:2: FutureWarning: A value is trying to be set on a copy of a DataFrame or Series through chained assignment using an inplace method.\n",
      "The behavior will change in pandas 3.0. This inplace method will never work because the intermediate object on which we are setting values always behaves as a copy.\n",
      "\n",
      "For example, when doing 'df[col].method(value, inplace=True)', try using 'df.method({col: value}, inplace=True)' or df[col] = df[col].method(value) instead, to perform the operation inplace on the original object.\n",
      "\n",
      "\n",
      "  test_data['MasVnrType'].fillna('None', inplace=True)\n",
      "/tmp/ipykernel_17/4175926661.py:3: FutureWarning: A value is trying to be set on a copy of a DataFrame or Series through chained assignment using an inplace method.\n",
      "The behavior will change in pandas 3.0. This inplace method will never work because the intermediate object on which we are setting values always behaves as a copy.\n",
      "\n",
      "For example, when doing 'df[col].method(value, inplace=True)', try using 'df.method({col: value}, inplace=True)' or df[col] = df[col].method(value) instead, to perform the operation inplace on the original object.\n",
      "\n",
      "\n",
      "  train_data['MasVnrArea'].fillna(0, inplace=True)\n",
      "/tmp/ipykernel_17/4175926661.py:4: FutureWarning: A value is trying to be set on a copy of a DataFrame or Series through chained assignment using an inplace method.\n",
      "The behavior will change in pandas 3.0. This inplace method will never work because the intermediate object on which we are setting values always behaves as a copy.\n",
      "\n",
      "For example, when doing 'df[col].method(value, inplace=True)', try using 'df.method({col: value}, inplace=True)' or df[col] = df[col].method(value) instead, to perform the operation inplace on the original object.\n",
      "\n",
      "\n",
      "  test_data['MasVnrArea'].fillna(0, inplace=True)\n"
     ]
    }
   ],
   "source": [
    "train_data['MasVnrType'].fillna('None', inplace=True)\n",
    "test_data['MasVnrType'].fillna('None', inplace=True)\n",
    "train_data['MasVnrArea'].fillna(0, inplace=True)\n",
    "test_data['MasVnrArea'].fillna(0, inplace=True)"
   ]
  },
  {
   "cell_type": "code",
   "execution_count": 10,
   "id": "e8f4f208",
   "metadata": {
    "execution": {
     "iopub.execute_input": "2024-09-27T09:39:21.138286Z",
     "iopub.status.busy": "2024-09-27T09:39:21.136979Z",
     "iopub.status.idle": "2024-09-27T09:39:21.148133Z",
     "shell.execute_reply": "2024-09-27T09:39:21.146857Z"
    },
    "papermill": {
     "duration": 0.03207,
     "end_time": "2024-09-27T09:39:21.152321",
     "exception": false,
     "start_time": "2024-09-27T09:39:21.120251",
     "status": "completed"
    },
    "tags": []
   },
   "outputs": [
    {
     "name": "stderr",
     "output_type": "stream",
     "text": [
      "/tmp/ipykernel_17/1813284603.py:1: FutureWarning: A value is trying to be set on a copy of a DataFrame or Series through chained assignment using an inplace method.\n",
      "The behavior will change in pandas 3.0. This inplace method will never work because the intermediate object on which we are setting values always behaves as a copy.\n",
      "\n",
      "For example, when doing 'df[col].method(value, inplace=True)', try using 'df.method({col: value}, inplace=True)' or df[col] = df[col].method(value) instead, to perform the operation inplace on the original object.\n",
      "\n",
      "\n",
      "  train_data['Electrical'].fillna(train_data['Electrical'].mode()[0], inplace=True)\n",
      "/tmp/ipykernel_17/1813284603.py:2: FutureWarning: A value is trying to be set on a copy of a DataFrame or Series through chained assignment using an inplace method.\n",
      "The behavior will change in pandas 3.0. This inplace method will never work because the intermediate object on which we are setting values always behaves as a copy.\n",
      "\n",
      "For example, when doing 'df[col].method(value, inplace=True)', try using 'df.method({col: value}, inplace=True)' or df[col] = df[col].method(value) instead, to perform the operation inplace on the original object.\n",
      "\n",
      "\n",
      "  test_data['Electrical'].fillna(test_data['Electrical'].mode()[0], inplace=True)\n"
     ]
    }
   ],
   "source": [
    "train_data['Electrical'].fillna(train_data['Electrical'].mode()[0], inplace=True)\n",
    "test_data['Electrical'].fillna(test_data['Electrical'].mode()[0], inplace=True)"
   ]
  },
  {
   "cell_type": "code",
   "execution_count": 11,
   "id": "c34d0253",
   "metadata": {
    "execution": {
     "iopub.execute_input": "2024-09-27T09:39:21.183768Z",
     "iopub.status.busy": "2024-09-27T09:39:21.183272Z",
     "iopub.status.idle": "2024-09-27T09:39:21.193122Z",
     "shell.execute_reply": "2024-09-27T09:39:21.191200Z"
    },
    "papermill": {
     "duration": 0.030117,
     "end_time": "2024-09-27T09:39:21.196767",
     "exception": false,
     "start_time": "2024-09-27T09:39:21.166650",
     "status": "completed"
    },
    "tags": []
   },
   "outputs": [
    {
     "name": "stderr",
     "output_type": "stream",
     "text": [
      "/tmp/ipykernel_17/3542005183.py:1: FutureWarning: A value is trying to be set on a copy of a DataFrame or Series through chained assignment using an inplace method.\n",
      "The behavior will change in pandas 3.0. This inplace method will never work because the intermediate object on which we are setting values always behaves as a copy.\n",
      "\n",
      "For example, when doing 'df[col].method(value, inplace=True)', try using 'df.method({col: value}, inplace=True)' or df[col] = df[col].method(value) instead, to perform the operation inplace on the original object.\n",
      "\n",
      "\n",
      "  train_data['FireplaceQu'].fillna('None',inplace=True)\n",
      "/tmp/ipykernel_17/3542005183.py:2: FutureWarning: A value is trying to be set on a copy of a DataFrame or Series through chained assignment using an inplace method.\n",
      "The behavior will change in pandas 3.0. This inplace method will never work because the intermediate object on which we are setting values always behaves as a copy.\n",
      "\n",
      "For example, when doing 'df[col].method(value, inplace=True)', try using 'df.method({col: value}, inplace=True)' or df[col] = df[col].method(value) instead, to perform the operation inplace on the original object.\n",
      "\n",
      "\n",
      "  test_data['FireplaceQu'].fillna('None',inplace=True)\n"
     ]
    }
   ],
   "source": [
    "train_data['FireplaceQu'].fillna('None',inplace=True)\n",
    "test_data['FireplaceQu'].fillna('None',inplace=True)"
   ]
  },
  {
   "cell_type": "code",
   "execution_count": 12,
   "id": "ef9b53d3",
   "metadata": {
    "execution": {
     "iopub.execute_input": "2024-09-27T09:39:21.229433Z",
     "iopub.status.busy": "2024-09-27T09:39:21.228715Z",
     "iopub.status.idle": "2024-09-27T09:39:21.241378Z",
     "shell.execute_reply": "2024-09-27T09:39:21.238540Z"
    },
    "papermill": {
     "duration": 0.033864,
     "end_time": "2024-09-27T09:39:21.245241",
     "exception": false,
     "start_time": "2024-09-27T09:39:21.211377",
     "status": "completed"
    },
    "tags": []
   },
   "outputs": [
    {
     "name": "stdout",
     "output_type": "stream",
     "text": [
      "Index(['MSZoning', 'Street', 'Alley', 'LotShape', 'LandContour', 'Utilities',\n",
      "       'LotConfig', 'LandSlope', 'Neighborhood', 'Condition1', 'Condition2',\n",
      "       'BldgType', 'HouseStyle', 'RoofStyle', 'RoofMatl', 'Exterior1st',\n",
      "       'Exterior2nd', 'MasVnrType', 'ExterQual', 'ExterCond', 'Foundation',\n",
      "       'BsmtQual', 'BsmtCond', 'BsmtExposure', 'BsmtFinType1', 'BsmtFinType2',\n",
      "       'Heating', 'HeatingQC', 'CentralAir', 'Electrical', 'KitchenQual',\n",
      "       'Functional', 'FireplaceQu', 'GarageType', 'GarageFinish', 'GarageQual',\n",
      "       'GarageCond', 'PavedDrive', 'PoolQC', 'Fence', 'MiscFeature',\n",
      "       'SaleType', 'SaleCondition'],\n",
      "      dtype='object')\n"
     ]
    }
   ],
   "source": [
    "print(train_data.select_dtypes(include=['object']).columns)"
   ]
  },
  {
   "cell_type": "code",
   "execution_count": 13,
   "id": "147480b2",
   "metadata": {
    "execution": {
     "iopub.execute_input": "2024-09-27T09:39:21.276095Z",
     "iopub.status.busy": "2024-09-27T09:39:21.275552Z",
     "iopub.status.idle": "2024-09-27T09:39:21.307376Z",
     "shell.execute_reply": "2024-09-27T09:39:21.304842Z"
    },
    "papermill": {
     "duration": 0.0516,
     "end_time": "2024-09-27T09:39:21.311439",
     "exception": false,
     "start_time": "2024-09-27T09:39:21.259839",
     "status": "completed"
    },
    "tags": []
   },
   "outputs": [
    {
     "name": "stdout",
     "output_type": "stream",
     "text": [
      "<class 'pandas.core.frame.DataFrame'>\n",
      "RangeIndex: 1460 entries, 0 to 1459\n",
      "Data columns (total 81 columns):\n",
      " #   Column         Non-Null Count  Dtype  \n",
      "---  ------         --------------  -----  \n",
      " 0   Id             1460 non-null   int64  \n",
      " 1   MSSubClass     1460 non-null   int64  \n",
      " 2   MSZoning       1460 non-null   object \n",
      " 3   LotFrontage    1460 non-null   float64\n",
      " 4   LotArea        1460 non-null   int64  \n",
      " 5   Street         1460 non-null   object \n",
      " 6   Alley          1460 non-null   object \n",
      " 7   LotShape       1460 non-null   object \n",
      " 8   LandContour    1460 non-null   object \n",
      " 9   Utilities      1460 non-null   object \n",
      " 10  LotConfig      1460 non-null   object \n",
      " 11  LandSlope      1460 non-null   object \n",
      " 12  Neighborhood   1460 non-null   object \n",
      " 13  Condition1     1460 non-null   object \n",
      " 14  Condition2     1460 non-null   object \n",
      " 15  BldgType       1460 non-null   object \n",
      " 16  HouseStyle     1460 non-null   object \n",
      " 17  OverallQual    1460 non-null   int64  \n",
      " 18  OverallCond    1460 non-null   int64  \n",
      " 19  YearBuilt      1460 non-null   int64  \n",
      " 20  YearRemodAdd   1460 non-null   int64  \n",
      " 21  RoofStyle      1460 non-null   object \n",
      " 22  RoofMatl       1460 non-null   object \n",
      " 23  Exterior1st    1460 non-null   object \n",
      " 24  Exterior2nd    1460 non-null   object \n",
      " 25  MasVnrType     1460 non-null   object \n",
      " 26  MasVnrArea     1460 non-null   float64\n",
      " 27  ExterQual      1460 non-null   object \n",
      " 28  ExterCond      1460 non-null   object \n",
      " 29  Foundation     1460 non-null   object \n",
      " 30  BsmtQual       1460 non-null   object \n",
      " 31  BsmtCond       1460 non-null   object \n",
      " 32  BsmtExposure   1460 non-null   object \n",
      " 33  BsmtFinType1   1460 non-null   object \n",
      " 34  BsmtFinSF1     1460 non-null   int64  \n",
      " 35  BsmtFinType2   1460 non-null   object \n",
      " 36  BsmtFinSF2     1460 non-null   int64  \n",
      " 37  BsmtUnfSF      1460 non-null   int64  \n",
      " 38  TotalBsmtSF    1460 non-null   int64  \n",
      " 39  Heating        1460 non-null   object \n",
      " 40  HeatingQC      1460 non-null   object \n",
      " 41  CentralAir     1460 non-null   object \n",
      " 42  Electrical     1460 non-null   object \n",
      " 43  1stFlrSF       1460 non-null   int64  \n",
      " 44  2ndFlrSF       1460 non-null   int64  \n",
      " 45  LowQualFinSF   1460 non-null   int64  \n",
      " 46  GrLivArea      1460 non-null   int64  \n",
      " 47  BsmtFullBath   1460 non-null   int64  \n",
      " 48  BsmtHalfBath   1460 non-null   int64  \n",
      " 49  FullBath       1460 non-null   int64  \n",
      " 50  HalfBath       1460 non-null   int64  \n",
      " 51  BedroomAbvGr   1460 non-null   int64  \n",
      " 52  KitchenAbvGr   1460 non-null   int64  \n",
      " 53  KitchenQual    1460 non-null   object \n",
      " 54  TotRmsAbvGrd   1460 non-null   int64  \n",
      " 55  Functional     1460 non-null   object \n",
      " 56  Fireplaces     1460 non-null   int64  \n",
      " 57  FireplaceQu    1460 non-null   object \n",
      " 58  GarageType     1460 non-null   object \n",
      " 59  GarageYrBlt    1460 non-null   float64\n",
      " 60  GarageFinish   1460 non-null   object \n",
      " 61  GarageCars     1460 non-null   int64  \n",
      " 62  GarageArea     1460 non-null   int64  \n",
      " 63  GarageQual     1460 non-null   object \n",
      " 64  GarageCond     1460 non-null   object \n",
      " 65  PavedDrive     1460 non-null   object \n",
      " 66  WoodDeckSF     1460 non-null   int64  \n",
      " 67  OpenPorchSF    1460 non-null   int64  \n",
      " 68  EnclosedPorch  1460 non-null   int64  \n",
      " 69  3SsnPorch      1460 non-null   int64  \n",
      " 70  ScreenPorch    1460 non-null   int64  \n",
      " 71  PoolArea       1460 non-null   int64  \n",
      " 72  PoolQC         1460 non-null   object \n",
      " 73  Fence          1460 non-null   object \n",
      " 74  MiscFeature    1460 non-null   object \n",
      " 75  MiscVal        1460 non-null   int64  \n",
      " 76  MoSold         1460 non-null   int64  \n",
      " 77  YrSold         1460 non-null   int64  \n",
      " 78  SaleType       1460 non-null   object \n",
      " 79  SaleCondition  1460 non-null   object \n",
      " 80  SalePrice      1460 non-null   int64  \n",
      "dtypes: float64(3), int64(35), object(43)\n",
      "memory usage: 924.0+ KB\n",
      "None\n"
     ]
    }
   ],
   "source": [
    "print(train_data.info())"
   ]
  },
  {
   "cell_type": "code",
   "execution_count": 14,
   "id": "b8c99cdf",
   "metadata": {
    "execution": {
     "iopub.execute_input": "2024-09-27T09:39:21.348365Z",
     "iopub.status.busy": "2024-09-27T09:39:21.347870Z",
     "iopub.status.idle": "2024-09-27T09:39:21.378936Z",
     "shell.execute_reply": "2024-09-27T09:39:21.377328Z"
    },
    "papermill": {
     "duration": 0.053031,
     "end_time": "2024-09-27T09:39:21.383155",
     "exception": false,
     "start_time": "2024-09-27T09:39:21.330124",
     "status": "completed"
    },
    "tags": []
   },
   "outputs": [
    {
     "name": "stderr",
     "output_type": "stream",
     "text": [
      "/tmp/ipykernel_17/258063813.py:2: FutureWarning: A value is trying to be set on a copy of a DataFrame or Series through chained assignment using an inplace method.\n",
      "The behavior will change in pandas 3.0. This inplace method will never work because the intermediate object on which we are setting values always behaves as a copy.\n",
      "\n",
      "For example, when doing 'df[col].method(value, inplace=True)', try using 'df.method({col: value}, inplace=True)' or df[col] = df[col].method(value) instead, to perform the operation inplace on the original object.\n",
      "\n",
      "\n",
      "  test_data[col].fillna(test_data[col].mode()[0], inplace=True)\n",
      "/tmp/ipykernel_17/258063813.py:4: FutureWarning: A value is trying to be set on a copy of a DataFrame or Series through chained assignment using an inplace method.\n",
      "The behavior will change in pandas 3.0. This inplace method will never work because the intermediate object on which we are setting values always behaves as a copy.\n",
      "\n",
      "For example, when doing 'df[col].method(value, inplace=True)', try using 'df.method({col: value}, inplace=True)' or df[col] = df[col].method(value) instead, to perform the operation inplace on the original object.\n",
      "\n",
      "\n",
      "  test_data[col].fillna(test_data[col].median(), inplace=True)\n",
      "/tmp/ipykernel_17/258063813.py:4: FutureWarning: A value is trying to be set on a copy of a DataFrame or Series through chained assignment using an inplace method.\n",
      "The behavior will change in pandas 3.0. This inplace method will never work because the intermediate object on which we are setting values always behaves as a copy.\n",
      "\n",
      "For example, when doing 'df[col].method(value, inplace=True)', try using 'df.method({col: value}, inplace=True)' or df[col] = df[col].method(value) instead, to perform the operation inplace on the original object.\n",
      "\n",
      "\n",
      "  test_data[col].fillna(test_data[col].median(), inplace=True)\n",
      "/tmp/ipykernel_17/258063813.py:4: FutureWarning: A value is trying to be set on a copy of a DataFrame or Series through chained assignment using an inplace method.\n",
      "The behavior will change in pandas 3.0. This inplace method will never work because the intermediate object on which we are setting values always behaves as a copy.\n",
      "\n",
      "For example, when doing 'df[col].method(value, inplace=True)', try using 'df.method({col: value}, inplace=True)' or df[col] = df[col].method(value) instead, to perform the operation inplace on the original object.\n",
      "\n",
      "\n",
      "  test_data[col].fillna(test_data[col].median(), inplace=True)\n",
      "/tmp/ipykernel_17/258063813.py:4: FutureWarning: A value is trying to be set on a copy of a DataFrame or Series through chained assignment using an inplace method.\n",
      "The behavior will change in pandas 3.0. This inplace method will never work because the intermediate object on which we are setting values always behaves as a copy.\n",
      "\n",
      "For example, when doing 'df[col].method(value, inplace=True)', try using 'df.method({col: value}, inplace=True)' or df[col] = df[col].method(value) instead, to perform the operation inplace on the original object.\n",
      "\n",
      "\n",
      "  test_data[col].fillna(test_data[col].median(), inplace=True)\n",
      "/tmp/ipykernel_17/258063813.py:4: FutureWarning: A value is trying to be set on a copy of a DataFrame or Series through chained assignment using an inplace method.\n",
      "The behavior will change in pandas 3.0. This inplace method will never work because the intermediate object on which we are setting values always behaves as a copy.\n",
      "\n",
      "For example, when doing 'df[col].method(value, inplace=True)', try using 'df.method({col: value}, inplace=True)' or df[col] = df[col].method(value) instead, to perform the operation inplace on the original object.\n",
      "\n",
      "\n",
      "  test_data[col].fillna(test_data[col].median(), inplace=True)\n",
      "/tmp/ipykernel_17/258063813.py:4: FutureWarning: A value is trying to be set on a copy of a DataFrame or Series through chained assignment using an inplace method.\n",
      "The behavior will change in pandas 3.0. This inplace method will never work because the intermediate object on which we are setting values always behaves as a copy.\n",
      "\n",
      "For example, when doing 'df[col].method(value, inplace=True)', try using 'df.method({col: value}, inplace=True)' or df[col] = df[col].method(value) instead, to perform the operation inplace on the original object.\n",
      "\n",
      "\n",
      "  test_data[col].fillna(test_data[col].median(), inplace=True)\n",
      "/tmp/ipykernel_17/258063813.py:4: FutureWarning: A value is trying to be set on a copy of a DataFrame or Series through chained assignment using an inplace method.\n",
      "The behavior will change in pandas 3.0. This inplace method will never work because the intermediate object on which we are setting values always behaves as a copy.\n",
      "\n",
      "For example, when doing 'df[col].method(value, inplace=True)', try using 'df.method({col: value}, inplace=True)' or df[col] = df[col].method(value) instead, to perform the operation inplace on the original object.\n",
      "\n",
      "\n",
      "  test_data[col].fillna(test_data[col].median(), inplace=True)\n",
      "/tmp/ipykernel_17/258063813.py:4: FutureWarning: A value is trying to be set on a copy of a DataFrame or Series through chained assignment using an inplace method.\n",
      "The behavior will change in pandas 3.0. This inplace method will never work because the intermediate object on which we are setting values always behaves as a copy.\n",
      "\n",
      "For example, when doing 'df[col].method(value, inplace=True)', try using 'df.method({col: value}, inplace=True)' or df[col] = df[col].method(value) instead, to perform the operation inplace on the original object.\n",
      "\n",
      "\n",
      "  test_data[col].fillna(test_data[col].median(), inplace=True)\n"
     ]
    }
   ],
   "source": [
    "for col in ['MSZoning', 'Functional', 'Utilities', 'Exterior2nd', 'Exterior1st', 'SaleType', 'KitchenQual']:\n",
    "    test_data[col].fillna(test_data[col].mode()[0], inplace=True)\n",
    "for col in ['BsmtFullBath', 'BsmtHalfBath', 'BsmtFinSF2', 'GarageArea', 'BsmtFinSF1', 'GarageCars', 'TotalBsmtSF', 'BsmtUnfSF']:\n",
    "    test_data[col].fillna(test_data[col].median(), inplace=True)"
   ]
  },
  {
   "cell_type": "code",
   "execution_count": 15,
   "id": "9d8a0cb0",
   "metadata": {
    "execution": {
     "iopub.execute_input": "2024-09-27T09:39:21.418816Z",
     "iopub.status.busy": "2024-09-27T09:39:21.417450Z",
     "iopub.status.idle": "2024-09-27T09:39:21.443353Z",
     "shell.execute_reply": "2024-09-27T09:39:21.441599Z"
    },
    "papermill": {
     "duration": 0.047265,
     "end_time": "2024-09-27T09:39:21.448138",
     "exception": false,
     "start_time": "2024-09-27T09:39:21.400873",
     "status": "completed"
    },
    "tags": []
   },
   "outputs": [
    {
     "name": "stdout",
     "output_type": "stream",
     "text": [
      "<class 'pandas.core.frame.DataFrame'>\n",
      "RangeIndex: 1460 entries, 0 to 1459\n",
      "Data columns (total 81 columns):\n",
      " #   Column         Non-Null Count  Dtype  \n",
      "---  ------         --------------  -----  \n",
      " 0   Id             1460 non-null   int64  \n",
      " 1   MSSubClass     1460 non-null   int64  \n",
      " 2   MSZoning       1460 non-null   object \n",
      " 3   LotFrontage    1460 non-null   float64\n",
      " 4   LotArea        1460 non-null   int64  \n",
      " 5   Street         1460 non-null   object \n",
      " 6   Alley          1460 non-null   object \n",
      " 7   LotShape       1460 non-null   object \n",
      " 8   LandContour    1460 non-null   object \n",
      " 9   Utilities      1460 non-null   object \n",
      " 10  LotConfig      1460 non-null   object \n",
      " 11  LandSlope      1460 non-null   object \n",
      " 12  Neighborhood   1460 non-null   object \n",
      " 13  Condition1     1460 non-null   object \n",
      " 14  Condition2     1460 non-null   object \n",
      " 15  BldgType       1460 non-null   object \n",
      " 16  HouseStyle     1460 non-null   object \n",
      " 17  OverallQual    1460 non-null   int64  \n",
      " 18  OverallCond    1460 non-null   int64  \n",
      " 19  YearBuilt      1460 non-null   int64  \n",
      " 20  YearRemodAdd   1460 non-null   int64  \n",
      " 21  RoofStyle      1460 non-null   object \n",
      " 22  RoofMatl       1460 non-null   object \n",
      " 23  Exterior1st    1460 non-null   object \n",
      " 24  Exterior2nd    1460 non-null   object \n",
      " 25  MasVnrType     1460 non-null   object \n",
      " 26  MasVnrArea     1460 non-null   float64\n",
      " 27  ExterQual      1460 non-null   object \n",
      " 28  ExterCond      1460 non-null   object \n",
      " 29  Foundation     1460 non-null   object \n",
      " 30  BsmtQual       1460 non-null   object \n",
      " 31  BsmtCond       1460 non-null   object \n",
      " 32  BsmtExposure   1460 non-null   object \n",
      " 33  BsmtFinType1   1460 non-null   object \n",
      " 34  BsmtFinSF1     1460 non-null   int64  \n",
      " 35  BsmtFinType2   1460 non-null   object \n",
      " 36  BsmtFinSF2     1460 non-null   int64  \n",
      " 37  BsmtUnfSF      1460 non-null   int64  \n",
      " 38  TotalBsmtSF    1460 non-null   int64  \n",
      " 39  Heating        1460 non-null   object \n",
      " 40  HeatingQC      1460 non-null   object \n",
      " 41  CentralAir     1460 non-null   object \n",
      " 42  Electrical     1460 non-null   object \n",
      " 43  1stFlrSF       1460 non-null   int64  \n",
      " 44  2ndFlrSF       1460 non-null   int64  \n",
      " 45  LowQualFinSF   1460 non-null   int64  \n",
      " 46  GrLivArea      1460 non-null   int64  \n",
      " 47  BsmtFullBath   1460 non-null   int64  \n",
      " 48  BsmtHalfBath   1460 non-null   int64  \n",
      " 49  FullBath       1460 non-null   int64  \n",
      " 50  HalfBath       1460 non-null   int64  \n",
      " 51  BedroomAbvGr   1460 non-null   int64  \n",
      " 52  KitchenAbvGr   1460 non-null   int64  \n",
      " 53  KitchenQual    1460 non-null   object \n",
      " 54  TotRmsAbvGrd   1460 non-null   int64  \n",
      " 55  Functional     1460 non-null   object \n",
      " 56  Fireplaces     1460 non-null   int64  \n",
      " 57  FireplaceQu    1460 non-null   object \n",
      " 58  GarageType     1460 non-null   object \n",
      " 59  GarageYrBlt    1460 non-null   float64\n",
      " 60  GarageFinish   1460 non-null   object \n",
      " 61  GarageCars     1460 non-null   int64  \n",
      " 62  GarageArea     1460 non-null   int64  \n",
      " 63  GarageQual     1460 non-null   object \n",
      " 64  GarageCond     1460 non-null   object \n",
      " 65  PavedDrive     1460 non-null   object \n",
      " 66  WoodDeckSF     1460 non-null   int64  \n",
      " 67  OpenPorchSF    1460 non-null   int64  \n",
      " 68  EnclosedPorch  1460 non-null   int64  \n",
      " 69  3SsnPorch      1460 non-null   int64  \n",
      " 70  ScreenPorch    1460 non-null   int64  \n",
      " 71  PoolArea       1460 non-null   int64  \n",
      " 72  PoolQC         1460 non-null   object \n",
      " 73  Fence          1460 non-null   object \n",
      " 74  MiscFeature    1460 non-null   object \n",
      " 75  MiscVal        1460 non-null   int64  \n",
      " 76  MoSold         1460 non-null   int64  \n",
      " 77  YrSold         1460 non-null   int64  \n",
      " 78  SaleType       1460 non-null   object \n",
      " 79  SaleCondition  1460 non-null   object \n",
      " 80  SalePrice      1460 non-null   int64  \n",
      "dtypes: float64(3), int64(35), object(43)\n",
      "memory usage: 924.0+ KB\n",
      "None\n"
     ]
    }
   ],
   "source": [
    "print(train_data.info())"
   ]
  },
  {
   "cell_type": "code",
   "execution_count": 16,
   "id": "5e6d77a9",
   "metadata": {
    "execution": {
     "iopub.execute_input": "2024-09-27T09:39:21.486554Z",
     "iopub.status.busy": "2024-09-27T09:39:21.484931Z",
     "iopub.status.idle": "2024-09-27T09:39:21.496172Z",
     "shell.execute_reply": "2024-09-27T09:39:21.493599Z"
    },
    "papermill": {
     "duration": 0.033243,
     "end_time": "2024-09-27T09:39:21.499951",
     "exception": false,
     "start_time": "2024-09-27T09:39:21.466708",
     "status": "completed"
    },
    "tags": []
   },
   "outputs": [
    {
     "name": "stdout",
     "output_type": "stream",
     "text": [
      "Index(['MSZoning', 'Street', 'Alley', 'LotShape', 'LandContour', 'Utilities',\n",
      "       'LotConfig', 'LandSlope', 'Neighborhood', 'Condition1', 'Condition2',\n",
      "       'BldgType', 'HouseStyle', 'RoofStyle', 'RoofMatl', 'Exterior1st',\n",
      "       'Exterior2nd', 'MasVnrType', 'ExterQual', 'ExterCond', 'Foundation',\n",
      "       'BsmtQual', 'BsmtCond', 'BsmtExposure', 'BsmtFinType1', 'BsmtFinType2',\n",
      "       'Heating', 'HeatingQC', 'CentralAir', 'Electrical', 'KitchenQual',\n",
      "       'Functional', 'FireplaceQu', 'GarageType', 'GarageFinish', 'GarageQual',\n",
      "       'GarageCond', 'PavedDrive', 'PoolQC', 'Fence', 'MiscFeature',\n",
      "       'SaleType', 'SaleCondition'],\n",
      "      dtype='object')\n"
     ]
    }
   ],
   "source": [
    "categorical_cols=train_data.select_dtypes(include=['object']).columns\n",
    "print(categorical_cols)"
   ]
  },
  {
   "cell_type": "code",
   "execution_count": 17,
   "id": "068169f1",
   "metadata": {
    "execution": {
     "iopub.execute_input": "2024-09-27T09:39:21.532647Z",
     "iopub.status.busy": "2024-09-27T09:39:21.532141Z",
     "iopub.status.idle": "2024-09-27T09:39:21.552048Z",
     "shell.execute_reply": "2024-09-27T09:39:21.550587Z"
    },
    "papermill": {
     "duration": 0.039946,
     "end_time": "2024-09-27T09:39:21.554860",
     "exception": false,
     "start_time": "2024-09-27T09:39:21.514914",
     "status": "completed"
    },
    "tags": []
   },
   "outputs": [
    {
     "name": "stdout",
     "output_type": "stream",
     "text": [
      "MSZoning: 5 categorías únicas\n",
      "Street: 2 categorías únicas\n",
      "Alley: 3 categorías únicas\n",
      "LotShape: 4 categorías únicas\n",
      "LandContour: 4 categorías únicas\n",
      "Utilities: 2 categorías únicas\n",
      "LotConfig: 5 categorías únicas\n",
      "LandSlope: 3 categorías únicas\n",
      "Neighborhood: 25 categorías únicas\n",
      "Condition1: 9 categorías únicas\n",
      "Condition2: 8 categorías únicas\n",
      "BldgType: 5 categorías únicas\n",
      "HouseStyle: 8 categorías únicas\n",
      "RoofStyle: 6 categorías únicas\n",
      "RoofMatl: 8 categorías únicas\n",
      "Exterior1st: 15 categorías únicas\n",
      "Exterior2nd: 16 categorías únicas\n",
      "MasVnrType: 4 categorías únicas\n",
      "ExterQual: 4 categorías únicas\n",
      "ExterCond: 5 categorías únicas\n",
      "Foundation: 6 categorías únicas\n",
      "BsmtQual: 5 categorías únicas\n",
      "BsmtCond: 5 categorías únicas\n",
      "BsmtExposure: 5 categorías únicas\n",
      "BsmtFinType1: 7 categorías únicas\n",
      "BsmtFinType2: 7 categorías únicas\n",
      "Heating: 6 categorías únicas\n",
      "HeatingQC: 5 categorías únicas\n",
      "CentralAir: 2 categorías únicas\n",
      "Electrical: 5 categorías únicas\n",
      "KitchenQual: 4 categorías únicas\n",
      "Functional: 7 categorías únicas\n",
      "FireplaceQu: 6 categorías únicas\n",
      "GarageType: 7 categorías únicas\n",
      "GarageFinish: 4 categorías únicas\n",
      "GarageQual: 6 categorías únicas\n",
      "GarageCond: 6 categorías únicas\n",
      "PavedDrive: 3 categorías únicas\n",
      "PoolQC: 4 categorías únicas\n",
      "Fence: 5 categorías únicas\n",
      "MiscFeature: 5 categorías únicas\n",
      "SaleType: 9 categorías únicas\n",
      "SaleCondition: 6 categorías únicas\n"
     ]
    }
   ],
   "source": [
    "for col in train_data.select_dtypes(include=['object']).columns:\n",
    "    print(f\"{col}: {train_data[col].nunique()} categorías únicas\")"
   ]
  },
  {
   "cell_type": "code",
   "execution_count": 18,
   "id": "0325a73c",
   "metadata": {
    "execution": {
     "iopub.execute_input": "2024-09-27T09:39:21.587037Z",
     "iopub.status.busy": "2024-09-27T09:39:21.586591Z",
     "iopub.status.idle": "2024-09-27T09:39:21.682160Z",
     "shell.execute_reply": "2024-09-27T09:39:21.681098Z"
    },
    "papermill": {
     "duration": 0.115842,
     "end_time": "2024-09-27T09:39:21.685742",
     "exception": false,
     "start_time": "2024-09-27T09:39:21.569900",
     "status": "completed"
    },
    "tags": []
   },
   "outputs": [],
   "source": [
    "columns_to_encode = ['MSZoning', 'Street', 'Alley', 'LotShape', 'LandContour', 'LotConfig', 'LandSlope', \n",
    "                     'Condition1', 'Condition2', 'BldgType', 'HouseStyle', 'RoofStyle', 'RoofMatl', \n",
    "                     'MasVnrType', 'ExterQual', 'ExterCond', 'Foundation', 'BsmtQual', 'BsmtCond', \n",
    "                     'BsmtExposure', 'BsmtFinType1', 'BsmtFinType2', 'Heating', 'HeatingQC', 'CentralAir', \n",
    "                     'Electrical', 'KitchenQual', 'Functional', 'FireplaceQu', 'GarageType', 'GarageFinish', \n",
    "                     'GarageQual', 'GarageCond', 'PavedDrive', 'PoolQC', 'Fence', 'MiscFeature', \n",
    "                     'SaleType', 'SaleCondition', ]\n",
    "train_data=pd.get_dummies(train_data, columns=columns_to_encode,drop_first=True)\n",
    "test_data=pd.get_dummies(test_data, columns=columns_to_encode,drop_first=True)"
   ]
  },
  {
   "cell_type": "code",
   "execution_count": 19,
   "id": "966e7986",
   "metadata": {
    "execution": {
     "iopub.execute_input": "2024-09-27T09:39:21.719536Z",
     "iopub.status.busy": "2024-09-27T09:39:21.719006Z",
     "iopub.status.idle": "2024-09-27T09:39:21.733299Z",
     "shell.execute_reply": "2024-09-27T09:39:21.731813Z"
    },
    "papermill": {
     "duration": 0.035271,
     "end_time": "2024-09-27T09:39:21.736564",
     "exception": false,
     "start_time": "2024-09-27T09:39:21.701293",
     "status": "completed"
    },
    "tags": []
   },
   "outputs": [],
   "source": [
    "train_data=pd.get_dummies(train_data, columns=['Utilities'],drop_first=True)"
   ]
  },
  {
   "cell_type": "code",
   "execution_count": 20,
   "id": "9ae44657",
   "metadata": {
    "execution": {
     "iopub.execute_input": "2024-09-27T09:39:21.769297Z",
     "iopub.status.busy": "2024-09-27T09:39:21.768838Z",
     "iopub.status.idle": "2024-09-27T09:39:21.783531Z",
     "shell.execute_reply": "2024-09-27T09:39:21.782161Z"
    },
    "papermill": {
     "duration": 0.034152,
     "end_time": "2024-09-27T09:39:21.786528",
     "exception": false,
     "start_time": "2024-09-27T09:39:21.752376",
     "status": "completed"
    },
    "tags": []
   },
   "outputs": [],
   "source": [
    "test_data=pd.get_dummies(test_data, columns=['Utilities'],drop_first=True)\n"
   ]
  },
  {
   "cell_type": "code",
   "execution_count": 21,
   "id": "c2962ad9",
   "metadata": {
    "execution": {
     "iopub.execute_input": "2024-09-27T09:39:21.818395Z",
     "iopub.status.busy": "2024-09-27T09:39:21.817881Z",
     "iopub.status.idle": "2024-09-27T09:39:21.830636Z",
     "shell.execute_reply": "2024-09-27T09:39:21.829196Z"
    },
    "papermill": {
     "duration": 0.032733,
     "end_time": "2024-09-27T09:39:21.834179",
     "exception": false,
     "start_time": "2024-09-27T09:39:21.801446",
     "status": "completed"
    },
    "tags": []
   },
   "outputs": [
    {
     "name": "stdout",
     "output_type": "stream",
     "text": [
      "Neighborhood\n",
      "NAmes      225\n",
      "CollgCr    150\n",
      "OldTown    113\n",
      "Edwards    100\n",
      "Somerst     86\n",
      "Gilbert     79\n",
      "NridgHt     77\n",
      "Sawyer      74\n",
      "NWAmes      73\n",
      "SawyerW     59\n",
      "BrkSide     58\n",
      "Crawfor     51\n",
      "Mitchel     49\n",
      "NoRidge     41\n",
      "Timber      38\n",
      "IDOTRR      37\n",
      "ClearCr     28\n",
      "StoneBr     25\n",
      "SWISU       25\n",
      "MeadowV     17\n",
      "Blmngtn     17\n",
      "BrDale      16\n",
      "Veenker     11\n",
      "NPkVill      9\n",
      "Blueste      2\n",
      "Name: count, dtype: int64\n",
      "Exterior1st\n",
      "VinylSd    515\n",
      "HdBoard    222\n",
      "MetalSd    220\n",
      "Wd Sdng    206\n",
      "Plywood    108\n",
      "CemntBd     61\n",
      "BrkFace     50\n",
      "WdShing     26\n",
      "Stucco      25\n",
      "AsbShng     20\n",
      "BrkComm      2\n",
      "Stone        2\n",
      "AsphShn      1\n",
      "ImStucc      1\n",
      "CBlock       1\n",
      "Name: count, dtype: int64\n",
      "Exterior2nd\n",
      "VinylSd    504\n",
      "MetalSd    214\n",
      "HdBoard    207\n",
      "Wd Sdng    197\n",
      "Plywood    142\n",
      "CmentBd     60\n",
      "Wd Shng     38\n",
      "Stucco      26\n",
      "BrkFace     25\n",
      "AsbShng     20\n",
      "ImStucc     10\n",
      "Brk Cmn      7\n",
      "Stone        5\n",
      "AsphShn      3\n",
      "Other        1\n",
      "CBlock       1\n",
      "Name: count, dtype: int64\n"
     ]
    }
   ],
   "source": [
    "print(train_data['Neighborhood'].value_counts())\n",
    "print(train_data['Exterior1st'].value_counts())\n",
    "print(train_data['Exterior2nd'].value_counts())"
   ]
  },
  {
   "cell_type": "code",
   "execution_count": 22,
   "id": "68dba857",
   "metadata": {
    "execution": {
     "iopub.execute_input": "2024-09-27T09:39:21.866888Z",
     "iopub.status.busy": "2024-09-27T09:39:21.866447Z",
     "iopub.status.idle": "2024-09-27T09:39:21.896832Z",
     "shell.execute_reply": "2024-09-27T09:39:21.895413Z"
    },
    "papermill": {
     "duration": 0.051011,
     "end_time": "2024-09-27T09:39:21.900499",
     "exception": false,
     "start_time": "2024-09-27T09:39:21.849488",
     "status": "completed"
    },
    "tags": []
   },
   "outputs": [
    {
     "name": "stdout",
     "output_type": "stream",
     "text": [
      "Neighborhood\n",
      "Other      225\n",
      "NAmes      225\n",
      "CollgCr    150\n",
      "OldTown    113\n",
      "Edwards    100\n",
      "Somerst     86\n",
      "Gilbert     79\n",
      "NridgHt     77\n",
      "Sawyer      74\n",
      "NWAmes      73\n",
      "SawyerW     59\n",
      "BrkSide     58\n",
      "Crawfor     51\n",
      "Mitchel     49\n",
      "NoRidge     41\n",
      "Name: count, dtype: int64\n",
      "Exterior1st\n",
      "VinylSd    515\n",
      "HdBoard    222\n",
      "MetalSd    220\n",
      "Wd Sdng    206\n",
      "Plywood    108\n",
      "CemntBd     61\n",
      "BrkFace     50\n",
      "Other       27\n",
      "WdShing     26\n",
      "Stucco      25\n",
      "Name: count, dtype: int64\n",
      "Exterior2nd\n",
      "VinylSd    504\n",
      "MetalSd    214\n",
      "HdBoard    207\n",
      "Wd Sdng    197\n",
      "Plywood    142\n",
      "CmentBd     60\n",
      "Other       47\n",
      "Wd Shng     38\n",
      "Stucco      26\n",
      "BrkFace     25\n",
      "Name: count, dtype: int64\n"
     ]
    }
   ],
   "source": [
    "# Función para agrupar categorías raras en 'Other'\n",
    "def group_rare_categories_safe(column, train_data, threshold):\n",
    "    # Encontrar las categorías más comunes (con más de `threshold` ocurrencias)\n",
    "    common_categories = train_data[column].value_counts()[train_data[column].value_counts() > threshold].index\n",
    "    # Reemplazar las categorías raras con 'Other' solo para las categorías que tienen menos ocurrencias\n",
    "    train_data[column] = train_data[column].apply(lambda x: x if x in common_categories else 'Other')\n",
    "    return train_data\n",
    "\n",
    "# Agrupar categorías raras para Neighborhood con threshold de 40\n",
    "train_data = group_rare_categories_safe('Neighborhood', train_data, 40)\n",
    "\n",
    "# Agrupar categorías raras para Exterior1st y Exterior2nd con threshold de 20\n",
    "train_data = group_rare_categories_safe('Exterior1st', train_data, 20)\n",
    "train_data = group_rare_categories_safe('Exterior2nd', train_data, 20)\n",
    "\n",
    "# Verificar que las categorías se agruparon correctamente\n",
    "print(train_data['Neighborhood'].value_counts())\n",
    "print(train_data['Exterior1st'].value_counts())\n",
    "print(train_data['Exterior2nd'].value_counts())\n"
   ]
  },
  {
   "cell_type": "code",
   "execution_count": 23,
   "id": "826a48eb",
   "metadata": {
    "execution": {
     "iopub.execute_input": "2024-09-27T09:39:21.933796Z",
     "iopub.status.busy": "2024-09-27T09:39:21.933341Z",
     "iopub.status.idle": "2024-09-27T09:39:21.956243Z",
     "shell.execute_reply": "2024-09-27T09:39:21.955050Z"
    },
    "papermill": {
     "duration": 0.043043,
     "end_time": "2024-09-27T09:39:21.958971",
     "exception": false,
     "start_time": "2024-09-27T09:39:21.915928",
     "status": "completed"
    },
    "tags": []
   },
   "outputs": [],
   "source": [
    "# Función para agrupar categorías raras en 'Other' en test_data\n",
    "def group_rare_categories_safe(column, test_data, threshold):\n",
    "    # Encontrar las categorías más comunes en train_data (esto asegura que los datasets sean consistentes)\n",
    "    common_categories = train_data[column].value_counts()[train_data[column].value_counts() > threshold].index\n",
    "    # Reemplazar las categorías raras con 'Other' en test_data basándose en las categorías comunes de train_data\n",
    "    test_data[column] = test_data[column].apply(lambda x: x if x in common_categories else 'Other')\n",
    "    return test_data\n",
    "\n",
    "# Agrupar categorías raras en test_data para Neighborhood (umbral de 40)\n",
    "test_data = group_rare_categories_safe('Neighborhood', test_data, 40)\n",
    "\n",
    "# Agrupar categorías raras en test_data para Exterior1st y Exterior2nd (umbral de 20)\n",
    "test_data = group_rare_categories_safe('Exterior1st', test_data, 20)\n",
    "test_data = group_rare_categories_safe('Exterior2nd', test_data, 20)\n"
   ]
  },
  {
   "cell_type": "code",
   "execution_count": 24,
   "id": "11d2e2b3",
   "metadata": {
    "execution": {
     "iopub.execute_input": "2024-09-27T09:39:21.991283Z",
     "iopub.status.busy": "2024-09-27T09:39:21.990799Z",
     "iopub.status.idle": "2024-09-27T09:39:22.011548Z",
     "shell.execute_reply": "2024-09-27T09:39:22.009274Z"
    },
    "papermill": {
     "duration": 0.040764,
     "end_time": "2024-09-27T09:39:22.015100",
     "exception": false,
     "start_time": "2024-09-27T09:39:21.974336",
     "status": "completed"
    },
    "tags": []
   },
   "outputs": [],
   "source": [
    "# Aplicar One-Hot Encoding a las columnas de train_data\n",
    "train_data = pd.get_dummies(train_data, columns=['Neighborhood', 'Exterior1st', 'Exterior2nd'], drop_first=True)\n",
    "# Aplicar One-Hot Encoding a las columnas de test_data\n",
    "test_data = pd.get_dummies(test_data, columns=['Neighborhood', 'Exterior1st', 'Exterior2nd'], drop_first=True)\n"
   ]
  },
  {
   "cell_type": "code",
   "execution_count": 25,
   "id": "44ed4e87",
   "metadata": {
    "execution": {
     "iopub.execute_input": "2024-09-27T09:39:22.048385Z",
     "iopub.status.busy": "2024-09-27T09:39:22.047884Z",
     "iopub.status.idle": "2024-09-27T09:39:22.054940Z",
     "shell.execute_reply": "2024-09-27T09:39:22.053327Z"
    },
    "papermill": {
     "duration": 0.027323,
     "end_time": "2024-09-27T09:39:22.058466",
     "exception": false,
     "start_time": "2024-09-27T09:39:22.031143",
     "status": "completed"
    },
    "tags": []
   },
   "outputs": [],
   "source": [
    "train_columns = set(train_data.columns)\n",
    "test_columns = set(test_data.columns)"
   ]
  },
  {
   "cell_type": "code",
   "execution_count": 26,
   "id": "e32571ee",
   "metadata": {
    "execution": {
     "iopub.execute_input": "2024-09-27T09:39:22.092309Z",
     "iopub.status.busy": "2024-09-27T09:39:22.091855Z",
     "iopub.status.idle": "2024-09-27T09:39:22.114815Z",
     "shell.execute_reply": "2024-09-27T09:39:22.112770Z"
    },
    "papermill": {
     "duration": 0.045035,
     "end_time": "2024-09-27T09:39:22.118938",
     "exception": false,
     "start_time": "2024-09-27T09:39:22.073903",
     "status": "completed"
    },
    "tags": []
   },
   "outputs": [
    {
     "name": "stdout",
     "output_type": "stream",
     "text": [
      "Forma de train_data: (1460, 240)\n",
      "Forma de test_data: (1459, 240)\n"
     ]
    }
   ],
   "source": [
    "for col in train_columns - test_columns:\n",
    "    test_data[col] = 0\n",
    "# Ordenar las columnas de test_data para que coincidan con el orden de train_data\n",
    "test_data = test_data[train_data.columns]\n",
    "\n",
    "# Verificar nuevamente las formas de los datasets y asegurarse de que coincidan\n",
    "print(\"Forma de train_data:\", train_data.shape)\n",
    "print(\"Forma de test_data:\", test_data.shape)"
   ]
  },
  {
   "cell_type": "code",
   "execution_count": 27,
   "id": "b380b450",
   "metadata": {
    "execution": {
     "iopub.execute_input": "2024-09-27T09:39:22.154449Z",
     "iopub.status.busy": "2024-09-27T09:39:22.153958Z",
     "iopub.status.idle": "2024-09-27T09:39:27.522486Z",
     "shell.execute_reply": "2024-09-27T09:39:27.520549Z"
    },
    "papermill": {
     "duration": 5.389639,
     "end_time": "2024-09-27T09:39:27.525872",
     "exception": false,
     "start_time": "2024-09-27T09:39:22.136233",
     "status": "completed"
    },
    "tags": []
   },
   "outputs": [
    {
     "name": "stdout",
     "output_type": "stream",
     "text": [
      "MAE con RFRegressor: 16503.186\n"
     ]
    }
   ],
   "source": [
    "from sklearn.ensemble import RandomForestRegressor\n",
    "from sklearn.model_selection import train_test_split\n",
    "from sklearn.metrics import mean_absolute_error\n",
    "from sklearn.model_selection import RandomizedSearchCV\n",
    "\n",
    "y=train_data['SalePrice']\n",
    "X=train_data.drop(columns=['SalePrice','Id'],axis=1)\n",
    "X_train,X_val,y_train,y_val=train_test_split(X,y,test_size=0.1,random_state=20)\n",
    "model=RandomForestRegressor(random_state=20)\n",
    "model.fit(X_train,y_train)\n",
    "y_pred=model.predict(X_val)\n",
    "score=mean_absolute_error(y_val,y_pred)\n",
    "print(f\"MAE con RFRegressor: {score:.8}\")\n",
    "\n"
   ]
  },
  {
   "cell_type": "code",
   "execution_count": 28,
   "id": "ff50fec6",
   "metadata": {
    "execution": {
     "iopub.execute_input": "2024-09-27T09:39:27.562378Z",
     "iopub.status.busy": "2024-09-27T09:39:27.561499Z",
     "iopub.status.idle": "2024-09-27T09:39:28.633374Z",
     "shell.execute_reply": "2024-09-27T09:39:28.631898Z"
    },
    "papermill": {
     "duration": 1.093698,
     "end_time": "2024-09-27T09:39:28.635967",
     "exception": false,
     "start_time": "2024-09-27T09:39:27.542269",
     "status": "completed"
    },
    "tags": []
   },
   "outputs": [
    {
     "name": "stdout",
     "output_type": "stream",
     "text": [
      "MAE con Gradient Boosting: 14203.264\n"
     ]
    }
   ],
   "source": [
    "from sklearn.ensemble import GradientBoostingRegressor\n",
    "\n",
    "best_model = GradientBoostingRegressor(random_state=20)\n",
    "best_model.fit(X_train, y_train)\n",
    "y_pred = best_model.predict(X_val)\n",
    "score = mean_absolute_error(y_val, y_pred)\n",
    "print(f\"MAE con Gradient Boosting: {score:.8}\")"
   ]
  },
  {
   "cell_type": "code",
   "execution_count": 29,
   "id": "2415b116",
   "metadata": {
    "execution": {
     "iopub.execute_input": "2024-09-27T09:39:28.668772Z",
     "iopub.status.busy": "2024-09-27T09:39:28.668301Z",
     "iopub.status.idle": "2024-09-27T09:39:29.594987Z",
     "shell.execute_reply": "2024-09-27T09:39:29.593871Z"
    },
    "papermill": {
     "duration": 0.94636,
     "end_time": "2024-09-27T09:39:29.597686",
     "exception": false,
     "start_time": "2024-09-27T09:39:28.651326",
     "status": "completed"
    },
    "tags": []
   },
   "outputs": [
    {
     "name": "stdout",
     "output_type": "stream",
     "text": [
      "MAE con XGBoost: 16172.315\n"
     ]
    }
   ],
   "source": [
    "from xgboost import XGBRegressor\n",
    "\n",
    "model = XGBRegressor(random_state=20)\n",
    "model.fit(X_train, y_train)\n",
    "y_pred = model.predict(X_val)\n",
    "score = mean_absolute_error(y_val, y_pred)\n",
    "print(f\"MAE con XGBoost: {score:.8}\")"
   ]
  },
  {
   "cell_type": "code",
   "execution_count": 30,
   "id": "1b0ea35a",
   "metadata": {
    "execution": {
     "iopub.execute_input": "2024-09-27T09:39:29.631220Z",
     "iopub.status.busy": "2024-09-27T09:39:29.630736Z",
     "iopub.status.idle": "2024-09-27T09:39:31.630136Z",
     "shell.execute_reply": "2024-09-27T09:39:31.628724Z"
    },
    "papermill": {
     "duration": 2.019065,
     "end_time": "2024-09-27T09:39:31.632980",
     "exception": false,
     "start_time": "2024-09-27T09:39:29.613915",
     "status": "completed"
    },
    "tags": []
   },
   "outputs": [
    {
     "name": "stdout",
     "output_type": "stream",
     "text": [
      "[LightGBM] [Warning] Found whitespace in feature_names, replace with underlines\n",
      "[LightGBM] [Info] Auto-choosing row-wise multi-threading, the overhead of testing was 0.008470 seconds.\n",
      "You can set `force_row_wise=true` to remove the overhead.\n",
      "And if memory is not enough, you can set `force_col_wise=true`.\n",
      "[LightGBM] [Info] Total Bins 3332\n",
      "[LightGBM] [Info] Number of data points in the train set: 1314, number of used features: 169\n",
      "[LightGBM] [Info] Start training from score 181311.707763\n",
      "MAE con LightGBM: 14468.922\n"
     ]
    }
   ],
   "source": [
    "from lightgbm import LGBMRegressor\n",
    "\n",
    "model = LGBMRegressor(random_state=20)\n",
    "model.fit(X_train, y_train)\n",
    "y_pred = model.predict(X_val)\n",
    "score = mean_absolute_error(y_val, y_pred)\n",
    "print(f\"MAE con LightGBM: {score:.8}\")"
   ]
  },
  {
   "cell_type": "code",
   "execution_count": 31,
   "id": "94127cb9",
   "metadata": {
    "execution": {
     "iopub.execute_input": "2024-09-27T09:39:31.667354Z",
     "iopub.status.busy": "2024-09-27T09:39:31.666623Z",
     "iopub.status.idle": "2024-09-27T09:39:35.039618Z",
     "shell.execute_reply": "2024-09-27T09:39:35.038179Z"
    },
    "papermill": {
     "duration": 3.393581,
     "end_time": "2024-09-27T09:39:35.042325",
     "exception": false,
     "start_time": "2024-09-27T09:39:31.648744",
     "status": "completed"
    },
    "tags": []
   },
   "outputs": [
    {
     "name": "stdout",
     "output_type": "stream",
     "text": [
      "MAE con Extra Trees: 16996.764\n"
     ]
    }
   ],
   "source": [
    "from sklearn.ensemble import ExtraTreesRegressor\n",
    "\n",
    "model = ExtraTreesRegressor(random_state=20)\n",
    "model.fit(X_train, y_train)\n",
    "y_pred = model.predict(X_val)\n",
    "score = mean_absolute_error(y_val, y_pred)\n",
    "print(f\"MAE con Extra Trees: {score:.8}\")"
   ]
  },
  {
   "cell_type": "code",
   "execution_count": 32,
   "id": "ef076158",
   "metadata": {
    "execution": {
     "iopub.execute_input": "2024-09-27T09:39:35.076995Z",
     "iopub.status.busy": "2024-09-27T09:39:35.076401Z",
     "iopub.status.idle": "2024-09-27T09:39:36.604079Z",
     "shell.execute_reply": "2024-09-27T09:39:36.603107Z"
    },
    "papermill": {
     "duration": 1.549554,
     "end_time": "2024-09-27T09:39:36.608333",
     "exception": false,
     "start_time": "2024-09-27T09:39:35.058779",
     "status": "completed"
    },
    "tags": []
   },
   "outputs": [
    {
     "name": "stdout",
     "output_type": "stream",
     "text": [
      "MAE con Regresión Lineal: 20219.511\n"
     ]
    }
   ],
   "source": [
    "from sklearn.linear_model import LinearRegression\n",
    "\n",
    "model = LinearRegression()\n",
    "model.fit(X_train, y_train)\n",
    "y_pred = model.predict(X_val)\n",
    "score = mean_absolute_error(y_val, y_pred)\n",
    "print(f\"MAE con Regresión Lineal: {score:.8}\")\n"
   ]
  },
  {
   "cell_type": "code",
   "execution_count": 33,
   "id": "4a09253f",
   "metadata": {
    "execution": {
     "iopub.execute_input": "2024-09-27T09:39:36.722218Z",
     "iopub.status.busy": "2024-09-27T09:39:36.720916Z",
     "iopub.status.idle": "2024-09-27T09:39:36.766038Z",
     "shell.execute_reply": "2024-09-27T09:39:36.764887Z"
    },
    "papermill": {
     "duration": 0.086303,
     "end_time": "2024-09-27T09:39:36.769732",
     "exception": false,
     "start_time": "2024-09-27T09:39:36.683429",
     "status": "completed"
    },
    "tags": []
   },
   "outputs": [
    {
     "name": "stdout",
     "output_type": "stream",
     "text": [
      "MAE con Ridge: 17443.088\n"
     ]
    }
   ],
   "source": [
    "from sklearn.linear_model import Ridge\n",
    "\n",
    "model = Ridge()\n",
    "model.fit(X_train, y_train)\n",
    "y_pred = model.predict(X_val)\n",
    "score = mean_absolute_error(y_val, y_pred)\n",
    "print(f\"MAE con Ridge: {score:.8}\")\n"
   ]
  },
  {
   "cell_type": "code",
   "execution_count": 34,
   "id": "714ecd53",
   "metadata": {
    "collapsed": true,
    "execution": {
     "iopub.execute_input": "2024-09-27T09:39:36.886836Z",
     "iopub.status.busy": "2024-09-27T09:39:36.886410Z",
     "iopub.status.idle": "2024-09-27T09:39:37.197760Z",
     "shell.execute_reply": "2024-09-27T09:39:37.196378Z"
    },
    "jupyter": {
     "outputs_hidden": true
    },
    "papermill": {
     "duration": 0.371099,
     "end_time": "2024-09-27T09:39:37.204452",
     "exception": false,
     "start_time": "2024-09-27T09:39:36.833353",
     "status": "completed"
    },
    "tags": []
   },
   "outputs": [
    {
     "name": "stdout",
     "output_type": "stream",
     "text": [
      "MAE con Lasso: 19900.953\n"
     ]
    },
    {
     "name": "stderr",
     "output_type": "stream",
     "text": [
      "/opt/conda/lib/python3.10/site-packages/sklearn/linear_model/_coordinate_descent.py:631: ConvergenceWarning: Objective did not converge. You might want to increase the number of iterations, check the scale of the features or consider increasing regularisation. Duality gap: 3.069e+11, tolerance: 8.378e+08\n",
      "  model = cd_fast.enet_coordinate_descent(\n"
     ]
    }
   ],
   "source": [
    "from sklearn.linear_model import Lasso\n",
    "\n",
    "model = Lasso()\n",
    "model.fit(X_train, y_train)\n",
    "y_pred = model.predict(X_val)\n",
    "score = mean_absolute_error(y_val, y_pred)\n",
    "print(f\"MAE con Lasso: {score:.8}\")\n"
   ]
  },
  {
   "cell_type": "code",
   "execution_count": 35,
   "id": "3b352b98",
   "metadata": {
    "execution": {
     "iopub.execute_input": "2024-09-27T09:39:37.274423Z",
     "iopub.status.busy": "2024-09-27T09:39:37.273503Z",
     "iopub.status.idle": "2024-09-27T09:39:37.362047Z",
     "shell.execute_reply": "2024-09-27T09:39:37.360717Z"
    },
    "papermill": {
     "duration": 0.126961,
     "end_time": "2024-09-27T09:39:37.364522",
     "exception": false,
     "start_time": "2024-09-27T09:39:37.237561",
     "status": "completed"
    },
    "tags": []
   },
   "outputs": [
    {
     "name": "stdout",
     "output_type": "stream",
     "text": [
      "MAE con KNN: 25088.281\n"
     ]
    }
   ],
   "source": [
    "from sklearn.neighbors import KNeighborsRegressor\n",
    "\n",
    "model = KNeighborsRegressor()\n",
    "model.fit(X_train, y_train)\n",
    "y_pred = model.predict(X_val)\n",
    "score = mean_absolute_error(y_val, y_pred)\n",
    "print(f\"MAE con KNN: {score:.8}\")\n"
   ]
  },
  {
   "cell_type": "code",
   "execution_count": 36,
   "id": "c574b559",
   "metadata": {
    "execution": {
     "iopub.execute_input": "2024-09-27T09:39:37.400016Z",
     "iopub.status.busy": "2024-09-27T09:39:37.399563Z",
     "iopub.status.idle": "2024-09-27T09:39:38.152698Z",
     "shell.execute_reply": "2024-09-27T09:39:38.151014Z"
    },
    "papermill": {
     "duration": 0.773565,
     "end_time": "2024-09-27T09:39:38.154797",
     "exception": true,
     "start_time": "2024-09-27T09:39:37.381232",
     "status": "failed"
    },
    "tags": []
   },
   "outputs": [
    {
     "ename": "ValueError",
     "evalue": "The feature names should match those that were passed during fit.\nFeature names unseen at fit time:\n- SalePrice\n",
     "output_type": "error",
     "traceback": [
      "\u001b[0;31m---------------------------------------------------------------------------\u001b[0m",
      "\u001b[0;31mValueError\u001b[0m                                Traceback (most recent call last)",
      "Cell \u001b[0;32mIn[36], line 3\u001b[0m\n\u001b[1;32m      1\u001b[0m \u001b[38;5;66;03m#De todos, el que menor MAE nos ha dado es GradientBoostingRegressor, haremos los test con el\u001b[39;00m\n\u001b[1;32m      2\u001b[0m X_test \u001b[38;5;241m=\u001b[39m test_data\u001b[38;5;241m.\u001b[39mdrop(columns\u001b[38;5;241m=\u001b[39m[\u001b[38;5;124m'\u001b[39m\u001b[38;5;124mId\u001b[39m\u001b[38;5;124m'\u001b[39m], axis\u001b[38;5;241m=\u001b[39m\u001b[38;5;241m1\u001b[39m)\n\u001b[0;32m----> 3\u001b[0m test_predictions \u001b[38;5;241m=\u001b[39m \u001b[43mbest_model\u001b[49m\u001b[38;5;241;43m.\u001b[39;49m\u001b[43mpredict\u001b[49m\u001b[43m(\u001b[49m\u001b[43mX_test\u001b[49m\u001b[43m)\u001b[49m\n\u001b[1;32m      4\u001b[0m output \u001b[38;5;241m=\u001b[39m pd\u001b[38;5;241m.\u001b[39mDataFrame({\u001b[38;5;124m'\u001b[39m\u001b[38;5;124mId\u001b[39m\u001b[38;5;124m'\u001b[39m: test_data[\u001b[38;5;124m'\u001b[39m\u001b[38;5;124mId\u001b[39m\u001b[38;5;124m'\u001b[39m], \u001b[38;5;124m'\u001b[39m\u001b[38;5;124mSalePrice\u001b[39m\u001b[38;5;124m'\u001b[39m: test_predictions})\n\u001b[1;32m      5\u001b[0m output\u001b[38;5;241m.\u001b[39mto_csv(\u001b[38;5;124m'\u001b[39m\u001b[38;5;124mpredicciones_submission.csv\u001b[39m\u001b[38;5;124m'\u001b[39m, index\u001b[38;5;241m=\u001b[39m\u001b[38;5;28;01mFalse\u001b[39;00m)\n",
      "File \u001b[0;32m/opt/conda/lib/python3.10/site-packages/sklearn/ensemble/_gb.py:1798\u001b[0m, in \u001b[0;36mGradientBoostingRegressor.predict\u001b[0;34m(self, X)\u001b[0m\n\u001b[1;32m   1783\u001b[0m \u001b[38;5;28;01mdef\u001b[39;00m \u001b[38;5;21mpredict\u001b[39m(\u001b[38;5;28mself\u001b[39m, X):\n\u001b[1;32m   1784\u001b[0m \u001b[38;5;250m    \u001b[39m\u001b[38;5;124;03m\"\"\"Predict regression target for X.\u001b[39;00m\n\u001b[1;32m   1785\u001b[0m \n\u001b[1;32m   1786\u001b[0m \u001b[38;5;124;03m    Parameters\u001b[39;00m\n\u001b[0;32m   (...)\u001b[0m\n\u001b[1;32m   1796\u001b[0m \u001b[38;5;124;03m        The predicted values.\u001b[39;00m\n\u001b[1;32m   1797\u001b[0m \u001b[38;5;124;03m    \"\"\"\u001b[39;00m\n\u001b[0;32m-> 1798\u001b[0m     X \u001b[38;5;241m=\u001b[39m \u001b[38;5;28;43mself\u001b[39;49m\u001b[38;5;241;43m.\u001b[39;49m\u001b[43m_validate_data\u001b[49m\u001b[43m(\u001b[49m\n\u001b[1;32m   1799\u001b[0m \u001b[43m        \u001b[49m\u001b[43mX\u001b[49m\u001b[43m,\u001b[49m\u001b[43m \u001b[49m\u001b[43mdtype\u001b[49m\u001b[38;5;241;43m=\u001b[39;49m\u001b[43mDTYPE\u001b[49m\u001b[43m,\u001b[49m\u001b[43m \u001b[49m\u001b[43morder\u001b[49m\u001b[38;5;241;43m=\u001b[39;49m\u001b[38;5;124;43m\"\u001b[39;49m\u001b[38;5;124;43mC\u001b[39;49m\u001b[38;5;124;43m\"\u001b[39;49m\u001b[43m,\u001b[49m\u001b[43m \u001b[49m\u001b[43maccept_sparse\u001b[49m\u001b[38;5;241;43m=\u001b[39;49m\u001b[38;5;124;43m\"\u001b[39;49m\u001b[38;5;124;43mcsr\u001b[39;49m\u001b[38;5;124;43m\"\u001b[39;49m\u001b[43m,\u001b[49m\u001b[43m \u001b[49m\u001b[43mreset\u001b[49m\u001b[38;5;241;43m=\u001b[39;49m\u001b[38;5;28;43;01mFalse\u001b[39;49;00m\n\u001b[1;32m   1800\u001b[0m \u001b[43m    \u001b[49m\u001b[43m)\u001b[49m\n\u001b[1;32m   1801\u001b[0m     \u001b[38;5;66;03m# In regression we can directly return the raw value from the trees.\u001b[39;00m\n\u001b[1;32m   1802\u001b[0m     \u001b[38;5;28;01mreturn\u001b[39;00m \u001b[38;5;28mself\u001b[39m\u001b[38;5;241m.\u001b[39m_raw_predict(X)\u001b[38;5;241m.\u001b[39mravel()\n",
      "File \u001b[0;32m/opt/conda/lib/python3.10/site-packages/sklearn/base.py:548\u001b[0m, in \u001b[0;36mBaseEstimator._validate_data\u001b[0;34m(self, X, y, reset, validate_separately, **check_params)\u001b[0m\n\u001b[1;32m    483\u001b[0m \u001b[38;5;28;01mdef\u001b[39;00m \u001b[38;5;21m_validate_data\u001b[39m(\n\u001b[1;32m    484\u001b[0m     \u001b[38;5;28mself\u001b[39m,\n\u001b[1;32m    485\u001b[0m     X\u001b[38;5;241m=\u001b[39m\u001b[38;5;124m\"\u001b[39m\u001b[38;5;124mno_validation\u001b[39m\u001b[38;5;124m\"\u001b[39m,\n\u001b[0;32m   (...)\u001b[0m\n\u001b[1;32m    489\u001b[0m     \u001b[38;5;241m*\u001b[39m\u001b[38;5;241m*\u001b[39mcheck_params,\n\u001b[1;32m    490\u001b[0m ):\n\u001b[1;32m    491\u001b[0m \u001b[38;5;250m    \u001b[39m\u001b[38;5;124;03m\"\"\"Validate input data and set or check the `n_features_in_` attribute.\u001b[39;00m\n\u001b[1;32m    492\u001b[0m \n\u001b[1;32m    493\u001b[0m \u001b[38;5;124;03m    Parameters\u001b[39;00m\n\u001b[0;32m   (...)\u001b[0m\n\u001b[1;32m    546\u001b[0m \u001b[38;5;124;03m        validated.\u001b[39;00m\n\u001b[1;32m    547\u001b[0m \u001b[38;5;124;03m    \"\"\"\u001b[39;00m\n\u001b[0;32m--> 548\u001b[0m     \u001b[38;5;28;43mself\u001b[39;49m\u001b[38;5;241;43m.\u001b[39;49m\u001b[43m_check_feature_names\u001b[49m\u001b[43m(\u001b[49m\u001b[43mX\u001b[49m\u001b[43m,\u001b[49m\u001b[43m \u001b[49m\u001b[43mreset\u001b[49m\u001b[38;5;241;43m=\u001b[39;49m\u001b[43mreset\u001b[49m\u001b[43m)\u001b[49m\n\u001b[1;32m    550\u001b[0m     \u001b[38;5;28;01mif\u001b[39;00m y \u001b[38;5;129;01mis\u001b[39;00m \u001b[38;5;28;01mNone\u001b[39;00m \u001b[38;5;129;01mand\u001b[39;00m \u001b[38;5;28mself\u001b[39m\u001b[38;5;241m.\u001b[39m_get_tags()[\u001b[38;5;124m\"\u001b[39m\u001b[38;5;124mrequires_y\u001b[39m\u001b[38;5;124m\"\u001b[39m]:\n\u001b[1;32m    551\u001b[0m         \u001b[38;5;28;01mraise\u001b[39;00m \u001b[38;5;167;01mValueError\u001b[39;00m(\n\u001b[1;32m    552\u001b[0m             \u001b[38;5;124mf\u001b[39m\u001b[38;5;124m\"\u001b[39m\u001b[38;5;124mThis \u001b[39m\u001b[38;5;132;01m{\u001b[39;00m\u001b[38;5;28mself\u001b[39m\u001b[38;5;241m.\u001b[39m\u001b[38;5;18m__class__\u001b[39m\u001b[38;5;241m.\u001b[39m\u001b[38;5;18m__name__\u001b[39m\u001b[38;5;132;01m}\u001b[39;00m\u001b[38;5;124m estimator \u001b[39m\u001b[38;5;124m\"\u001b[39m\n\u001b[1;32m    553\u001b[0m             \u001b[38;5;124m\"\u001b[39m\u001b[38;5;124mrequires y to be passed, but the target y is None.\u001b[39m\u001b[38;5;124m\"\u001b[39m\n\u001b[1;32m    554\u001b[0m         )\n",
      "File \u001b[0;32m/opt/conda/lib/python3.10/site-packages/sklearn/base.py:481\u001b[0m, in \u001b[0;36mBaseEstimator._check_feature_names\u001b[0;34m(self, X, reset)\u001b[0m\n\u001b[1;32m    476\u001b[0m \u001b[38;5;28;01mif\u001b[39;00m \u001b[38;5;129;01mnot\u001b[39;00m missing_names \u001b[38;5;129;01mand\u001b[39;00m \u001b[38;5;129;01mnot\u001b[39;00m unexpected_names:\n\u001b[1;32m    477\u001b[0m     message \u001b[38;5;241m+\u001b[39m\u001b[38;5;241m=\u001b[39m (\n\u001b[1;32m    478\u001b[0m         \u001b[38;5;124m\"\u001b[39m\u001b[38;5;124mFeature names must be in the same order as they were in fit.\u001b[39m\u001b[38;5;130;01m\\n\u001b[39;00m\u001b[38;5;124m\"\u001b[39m\n\u001b[1;32m    479\u001b[0m     )\n\u001b[0;32m--> 481\u001b[0m \u001b[38;5;28;01mraise\u001b[39;00m \u001b[38;5;167;01mValueError\u001b[39;00m(message)\n",
      "\u001b[0;31mValueError\u001b[0m: The feature names should match those that were passed during fit.\nFeature names unseen at fit time:\n- SalePrice\n"
     ]
    }
   ],
   "source": [
    "#De todos, el que menor MAE nos ha dado es GradientBoostingRegressor, haremos los test con el\n",
    "X_test = test_data.drop(columns=['Id'], axis=1)\n",
    "test_predictions = best_model.predict(X_test)\n",
    "output = pd.DataFrame({'Id': test_data['Id'], 'SalePrice': test_predictions})\n",
    "output.to_csv('predicciones_submission.csv', index=False)\n",
    "print(\"Predicciones guardadas en 'predicciones_submission.csv'\")\n"
   ]
  },
  {
   "cell_type": "code",
   "execution_count": null,
   "id": "3513ca23",
   "metadata": {
    "execution": {
     "iopub.execute_input": "2024-09-27T09:29:53.111240Z",
     "iopub.status.busy": "2024-09-27T09:29:53.110737Z",
     "iopub.status.idle": "2024-09-27T09:29:53.119117Z",
     "shell.execute_reply": "2024-09-27T09:29:53.118033Z",
     "shell.execute_reply.started": "2024-09-27T09:29:53.111162Z"
    },
    "papermill": {
     "duration": null,
     "end_time": null,
     "exception": null,
     "start_time": null,
     "status": "pending"
    },
    "tags": []
   },
   "outputs": [],
   "source": []
  },
  {
   "cell_type": "code",
   "execution_count": null,
   "id": "608f219c",
   "metadata": {
    "papermill": {
     "duration": null,
     "end_time": null,
     "exception": null,
     "start_time": null,
     "status": "pending"
    },
    "tags": []
   },
   "outputs": [],
   "source": []
  }
 ],
 "metadata": {
  "kaggle": {
   "accelerator": "none",
   "dataSources": [
    {
     "datasetId": 5772767,
     "sourceId": 9488695,
     "sourceType": "datasetVersion"
    }
   ],
   "dockerImageVersionId": 30775,
   "isGpuEnabled": false,
   "isInternetEnabled": false,
   "language": "python",
   "sourceType": "notebook"
  },
  "kernelspec": {
   "display_name": "Python 3",
   "language": "python",
   "name": "python3"
  },
  "language_info": {
   "codemirror_mode": {
    "name": "ipython",
    "version": 3
   },
   "file_extension": ".py",
   "mimetype": "text/x-python",
   "name": "python",
   "nbconvert_exporter": "python",
   "pygments_lexer": "ipython3",
   "version": "3.10.14"
  },
  "papermill": {
   "default_parameters": {},
   "duration": 23.485215,
   "end_time": "2024-09-27T09:39:39.094887",
   "environment_variables": {},
   "exception": true,
   "input_path": "__notebook__.ipynb",
   "output_path": "__notebook__.ipynb",
   "parameters": {},
   "start_time": "2024-09-27T09:39:15.609672",
   "version": "2.6.0"
  }
 },
 "nbformat": 4,
 "nbformat_minor": 5
}
